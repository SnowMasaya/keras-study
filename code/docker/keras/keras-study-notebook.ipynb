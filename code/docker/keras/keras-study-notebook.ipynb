{
 "cells": [
  {
   "cell_type": "markdown",
   "metadata": {},
   "source": [
    "# Sports 1M C3D Network to Keras"
   ]
  },
  {
   "cell_type": "code",
   "execution_count": 1,
   "metadata": {
    "collapsed": false
   },
   "outputs": [
    {
     "name": "stderr",
     "output_type": "stream",
     "text": [
      "Using TensorFlow backend.\n"
     ]
    }
   ],
   "source": [
    "from keras.models import Sequential\n",
    "from keras.layers.core import Dense, Dropout, Flatten\n",
    "from keras.layers.convolutional import Convolution3D, MaxPooling3D, ZeroPadding3D\n",
    "from keras.optimizers import SGD"
   ]
  },
  {
   "cell_type": "code",
   "execution_count": 12,
   "metadata": {
    "collapsed": false
   },
   "outputs": [
    {
     "name": "stdout",
     "output_type": "stream",
     "text": [
      "____________________________________________________________________________________________________\n",
      "Layer (type)                     Output Shape          Param #     Connected to                     \n",
      "====================================================================================================\n",
      "conv1 (Convolution3D)            (None, 3, 16, 112, 64 193600      convolution3d_input_11[0][0]     \n",
      "____________________________________________________________________________________________________\n",
      "pool1 (MaxPooling3D)             (None, 3, 8, 56, 64)  0           conv1[0][0]                      \n",
      "____________________________________________________________________________________________________\n",
      "conv2 (Convolution3D)            (None, 3, 8, 56, 128) 221312      pool1[0][0]                      \n",
      "____________________________________________________________________________________________________\n",
      "pool2 (MaxPooling3D)             (None, 1, 4, 28, 128) 0           conv2[0][0]                      \n",
      "____________________________________________________________________________________________________\n",
      "conv3a (Convolution3D)           (None, 1, 4, 28, 256) 884992      pool2[0][0]                      \n",
      "____________________________________________________________________________________________________\n",
      "conv3b (Convolution3D)           (None, 1, 4, 28, 256) 1769728     conv3a[0][0]                     \n",
      "____________________________________________________________________________________________________\n",
      "pool3 (MaxPooling3D)             (None, 1, 2, 14, 256) 0           conv3b[0][0]                     \n",
      "____________________________________________________________________________________________________\n",
      "zeropadding3d_7 (ZeroPadding3D)  (None, 1, 4, 16, 256) 0           pool3[0][0]                      \n",
      "____________________________________________________________________________________________________\n",
      "conv4a (Convolution3D)           (None, 1, 4, 16, 512) 3539456     zeropadding3d_7[0][0]            \n",
      "____________________________________________________________________________________________________\n",
      "conv4b (Convolution3D)           (None, 1, 4, 16, 512) 7078400     conv4a[0][0]                     \n",
      "____________________________________________________________________________________________________\n",
      "pool4 (MaxPooling3D)             (None, 1, 2, 8, 512)  0           conv4b[0][0]                     \n",
      "____________________________________________________________________________________________________\n",
      "conv5a (Convolution3D)           (None, 1, 2, 8, 512)  7078400     pool4[0][0]                      \n",
      "____________________________________________________________________________________________________\n",
      "conv5b (Convolution3D)           (None, 1, 2, 8, 512)  7078400     conv5a[0][0]                     \n",
      "____________________________________________________________________________________________________\n",
      "zeropadding3d_8 (ZeroPadding3D)  (None, 1, 4, 10, 512) 0           conv5b[0][0]                     \n",
      "____________________________________________________________________________________________________\n",
      "pool5 (MaxPooling3D)             (None, 1, 2, 5, 512)  0           zeropadding3d_8[0][0]            \n",
      "____________________________________________________________________________________________________\n",
      "flatten_7 (Flatten)              (None, 5120)          0           pool5[0][0]                      \n",
      "____________________________________________________________________________________________________\n",
      "fc6 (Dense)                      (None, 2048)          10487808    flatten_7[0][0]                  \n",
      "____________________________________________________________________________________________________\n",
      "dropout_13 (Dropout)             (None, 2048)          0           fc6[0][0]                        \n",
      "____________________________________________________________________________________________________\n",
      "fc7 (Dense)                      (None, 2048)          4196352     dropout_13[0][0]                 \n",
      "____________________________________________________________________________________________________\n",
      "dropout_14 (Dropout)             (None, 2048)          0           fc7[0][0]                        \n",
      "____________________________________________________________________________________________________\n",
      "fc8 (Dense)                      (None, 487)           997863      dropout_14[0][0]                 \n",
      "====================================================================================================\n",
      "Total params: 43,526,311\n",
      "Trainable params: 43,526,311\n",
      "Non-trainable params: 0\n",
      "____________________________________________________________________________________________________\n",
      "None\n"
     ]
    }
   ],
   "source": [
    "def get_model(summary=False):\n",
    "    \"\"\" Return the Keras model of the network\n",
    "    \"\"\"\n",
    "    model = Sequential()\n",
    "    # 1st layer group\n",
    "    model.add(Convolution3D(64, 3, 3, 3, activation='relu', \n",
    "                            border_mode='same', name='conv1',\n",
    "                            subsample=(1, 1, 1), \n",
    "                            input_shape=(3, 16, 112, 112)))\n",
    "    model.add(MaxPooling3D(pool_size=(1, 2, 2), strides=(1, 2, 2), \n",
    "                           border_mode='valid', name='pool1'))\n",
    "    # 2nd layer group\n",
    "    model.add(Convolution3D(128, 3, 3, 3, activation='relu', \n",
    "                            border_mode='same', name='conv2',\n",
    "                            subsample=(1, 1, 1)))\n",
    "    model.add(MaxPooling3D(pool_size=(2, 2, 2), strides=(2, 2, 2), \n",
    "                           border_mode='valid', name='pool2'))\n",
    "    # 3rd layer group\n",
    "    model.add(Convolution3D(256, 3, 3, 3, activation='relu', \n",
    "                            border_mode='same', name='conv3a',\n",
    "                            subsample=(1, 1, 1)))\n",
    "    model.add(Convolution3D(256, 3, 3, 3, activation='relu', \n",
    "                            border_mode='same', name='conv3b',\n",
    "                            subsample=(1, 1, 1)))\n",
    "    model.add(MaxPooling3D(pool_size=(1, 2, 2), strides=(2, 2, 2), \n",
    "                           border_mode='valid', name='pool3'))\n",
    "    model.add(ZeroPadding3D(padding=(0, 1, 1)))\n",
    "    # 4th layer group\n",
    "    model.add(Convolution3D(512, 3, 3, 3, activation='relu', \n",
    "                            border_mode='same', name='conv4a',\n",
    "                            subsample=(1, 1, 1)))\n",
    "    model.add(Convolution3D(512, 3, 3, 3, activation='relu', \n",
    "                            border_mode='same', name='conv4b',\n",
    "                            subsample=(1, 1, 1)))\n",
    "    model.add(MaxPooling3D(pool_size=(1, 2, 2), strides=(2, 2, 2), \n",
    "                           border_mode='valid', name='pool4'))\n",
    "    # 5th layer group\n",
    "    model.add(Convolution3D(512, 3, 3, 3, activation='relu', \n",
    "                            border_mode='same', name='conv5a',\n",
    "                            subsample=(1, 1, 1)))\n",
    "    model.add(Convolution3D(512, 3, 3, 3, activation='relu', \n",
    "                            border_mode='same', name='conv5b',\n",
    "                            subsample=(1, 1, 1)))\n",
    "    model.add(ZeroPadding3D(padding=(0, 1, 1)))\n",
    "    model.add(MaxPooling3D(pool_size=(1, 2, 2), strides=(2, 2, 2), \n",
    "                           border_mode='valid', name='pool5'))\n",
    "    model.add(Flatten())\n",
    "    # FC layers group\n",
    "    model.add(Dense(2048, activation='relu', name='fc6'))\n",
    "    model.add(Dropout(.5))\n",
    "    model.add(Dense(2048, activation='relu', name='fc7'))\n",
    "    model.add(Dropout(.5))\n",
    "    model.add(Dense(487, activation='softmax', name='fc8'))\n",
    "    if summary:\n",
    "        print(model.summary())\n",
    "    return model\n",
    "\n",
    "model = get_model(summary=True)"
   ]
  },
  {
   "cell_type": "markdown",
   "metadata": {},
   "source": [
    "# Loding Paramater"
   ]
  },
  {
   "cell_type": "code",
   "execution_count": null,
   "metadata": {
    "collapsed": true
   },
   "outputs": [],
   "source": [
    ""
   ]
  }
 ],
 "metadata": {
  "kernelspec": {
   "display_name": "Python 3",
   "language": "python",
   "name": "python3"
  },
  "language_info": {
   "codemirror_mode": {
    "name": "ipython",
    "version": 3.0
   },
   "file_extension": ".py",
   "mimetype": "text/x-python",
   "name": "python",
   "nbconvert_exporter": "python",
   "pygments_lexer": "ipython3",
   "version": "3.5.2"
  }
 },
 "nbformat": 4,
 "nbformat_minor": 0
}