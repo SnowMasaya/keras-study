{
 "cells": [
  {
   "cell_type": "markdown",
   "metadata": {},
   "source": [
    "# Sports 1M C3D Network to Keras"
   ]
  },
  {
   "cell_type": "code",
   "execution_count": 1,
   "metadata": {
    "collapsed": false
   },
   "outputs": [
    {
     "name": "stderr",
     "output_type": "stream",
     "text": [
      "Using TensorFlow backend.\n"
     ]
    }
   ],
   "source": [
    "from keras.models import Sequential\n",
    "from keras.layers.core import Dense, Dropout, Flatten\n",
    "from keras.layers.convolutional import Convolution3D, MaxPooling3D, ZeroPadding3D\n",
    "from keras.optimizers import SGD"
   ]
  },
  {
   "cell_type": "code",
   "execution_count": 12,
   "metadata": {
    "collapsed": false
   },
   "outputs": [
    {
     "name": "stdout",
     "output_type": "stream",
     "text": [
      "____________________________________________________________________________________________________\n",
      "Layer (type)                     Output Shape          Param #     Connected to                     \n",
      "====================================================================================================\n",
      "conv1 (Convolution3D)            (None, 3, 16, 112, 64 193600      convolution3d_input_11[0][0]     \n",
      "____________________________________________________________________________________________________\n",
      "pool1 (MaxPooling3D)             (None, 3, 8, 56, 64)  0           conv1[0][0]                      \n",
      "____________________________________________________________________________________________________\n",
      "conv2 (Convolution3D)            (None, 3, 8, 56, 128) 221312      pool1[0][0]                      \n",
      "____________________________________________________________________________________________________\n",
      "pool2 (MaxPooling3D)             (None, 1, 4, 28, 128) 0           conv2[0][0]                      \n",
      "____________________________________________________________________________________________________\n",
      "conv3a (Convolution3D)           (None, 1, 4, 28, 256) 884992      pool2[0][0]                      \n",
      "____________________________________________________________________________________________________\n",
      "conv3b (Convolution3D)           (None, 1, 4, 28, 256) 1769728     conv3a[0][0]                     \n",
      "____________________________________________________________________________________________________\n",
      "pool3 (MaxPooling3D)             (None, 1, 2, 14, 256) 0           conv3b[0][0]                     \n",
      "____________________________________________________________________________________________________\n",
      "zeropadding3d_7 (ZeroPadding3D)  (None, 1, 4, 16, 256) 0           pool3[0][0]                      \n",
      "____________________________________________________________________________________________________\n",
      "conv4a (Convolution3D)           (None, 1, 4, 16, 512) 3539456     zeropadding3d_7[0][0]            \n",
      "____________________________________________________________________________________________________\n",
      "conv4b (Convolution3D)           (None, 1, 4, 16, 512) 7078400     conv4a[0][0]                     \n",
      "____________________________________________________________________________________________________\n",
      "pool4 (MaxPooling3D)             (None, 1, 2, 8, 512)  0           conv4b[0][0]                     \n",
      "____________________________________________________________________________________________________\n",
      "conv5a (Convolution3D)           (None, 1, 2, 8, 512)  7078400     pool4[0][0]                      \n",
      "____________________________________________________________________________________________________\n",
      "conv5b (Convolution3D)           (None, 1, 2, 8, 512)  7078400     conv5a[0][0]                     \n",
      "____________________________________________________________________________________________________\n",
      "zeropadding3d_8 (ZeroPadding3D)  (None, 1, 4, 10, 512) 0           conv5b[0][0]                     \n",
      "____________________________________________________________________________________________________\n",
      "pool5 (MaxPooling3D)             (None, 1, 2, 5, 512)  0           zeropadding3d_8[0][0]            \n",
      "____________________________________________________________________________________________________\n",
      "flatten_7 (Flatten)              (None, 5120)          0           pool5[0][0]                      \n",
      "____________________________________________________________________________________________________\n",
      "fc6 (Dense)                      (None, 2048)          10487808    flatten_7[0][0]                  \n",
      "____________________________________________________________________________________________________\n",
      "dropout_13 (Dropout)             (None, 2048)          0           fc6[0][0]                        \n",
      "____________________________________________________________________________________________________\n",
      "fc7 (Dense)                      (None, 2048)          4196352     dropout_13[0][0]                 \n",
      "____________________________________________________________________________________________________\n",
      "dropout_14 (Dropout)             (None, 2048)          0           fc7[0][0]                        \n",
      "____________________________________________________________________________________________________\n",
      "fc8 (Dense)                      (None, 487)           997863      dropout_14[0][0]                 \n",
      "====================================================================================================\n",
      "Total params: 43,526,311\n",
      "Trainable params: 43,526,311\n",
      "Non-trainable params: 0\n",
      "____________________________________________________________________________________________________\n",
      "None\n"
     ]
    }
   ],
   "source": [
    "def get_model(summary=False):\n",
    "    \"\"\" Return the Keras model of the network\n",
    "    \"\"\"\n",
    "    model = Sequential()\n",
    "    # 1st layer group\n",
    "    model.add(Convolution3D(64, 3, 3, 3, activation='relu', \n",
    "                            border_mode='same', name='conv1',\n",
    "                            subsample=(1, 1, 1), \n",
    "                            input_shape=(3, 16, 112, 112)))\n",
    "    model.add(MaxPooling3D(pool_size=(1, 2, 2), strides=(1, 2, 2), \n",
    "                           border_mode='valid', name='pool1'))\n",
    "    # 2nd layer group\n",
    "    model.add(Convolution3D(128, 3, 3, 3, activation='relu', \n",
    "                            border_mode='same', name='conv2',\n",
    "                            subsample=(1, 1, 1)))\n",
    "    model.add(MaxPooling3D(pool_size=(2, 2, 2), strides=(2, 2, 2), \n",
    "                           border_mode='valid', name='pool2'))\n",
    "    # 3rd layer group\n",
    "    model.add(Convolution3D(256, 3, 3, 3, activation='relu', \n",
    "                            border_mode='same', name='conv3a',\n",
    "                            subsample=(1, 1, 1)))\n",
    "    model.add(Convolution3D(256, 3, 3, 3, activation='relu', \n",
    "                            border_mode='same', name='conv3b',\n",
    "                            subsample=(1, 1, 1)))\n",
    "    model.add(MaxPooling3D(pool_size=(1, 2, 2), strides=(2, 2, 2), \n",
    "                           border_mode='valid', name='pool3'))\n",
    "    model.add(ZeroPadding3D(padding=(0, 1, 1)))\n",
    "    # 4th layer group\n",
    "    model.add(Convolution3D(512, 3, 3, 3, activation='relu', \n",
    "                            border_mode='same', name='conv4a',\n",
    "                            subsample=(1, 1, 1)))\n",
    "    model.add(Convolution3D(512, 3, 3, 3, activation='relu', \n",
    "                            border_mode='same', name='conv4b',\n",
    "                            subsample=(1, 1, 1)))\n",
    "    model.add(MaxPooling3D(pool_size=(1, 2, 2), strides=(2, 2, 2), \n",
    "                           border_mode='valid', name='pool4'))\n",
    "    # 5th layer group\n",
    "    model.add(Convolution3D(512, 3, 3, 3, activation='relu', \n",
    "                            border_mode='same', name='conv5a',\n",
    "                            subsample=(1, 1, 1)))\n",
    "    model.add(Convolution3D(512, 3, 3, 3, activation='relu', \n",
    "                            border_mode='same', name='conv5b',\n",
    "                            subsample=(1, 1, 1)))\n",
    "    model.add(ZeroPadding3D(padding=(0, 1, 1)))\n",
    "    model.add(MaxPooling3D(pool_size=(1, 2, 2), strides=(2, 2, 2), \n",
    "                           border_mode='valid', name='pool5'))\n",
    "    model.add(Flatten())\n",
    "    # FC layers group\n",
    "    model.add(Dense(2048, activation='relu', name='fc6'))\n",
    "    model.add(Dropout(.5))\n",
    "    model.add(Dense(2048, activation='relu', name='fc7'))\n",
    "    model.add(Dropout(.5))\n",
    "    model.add(Dense(487, activation='softmax', name='fc8'))\n",
    "    if summary:\n",
    "        print(model.summary())\n",
    "    return model\n",
    "\n",
    "model = get_model(summary=True)"
   ]
  },
  {
   "cell_type": "markdown",
   "metadata": {},
   "source": [
    "# Loding Paramater"
   ]
  },
  {
   "cell_type": "code",
   "execution_count": null,
   "metadata": {
    "collapsed": true
   },
   "outputs": [],
   "source": [
    "import caffe_pb2 as caffe\n",
    "import numpy as np\n",
    "\n",
    "p = caffe.NetParameter()\n",
    "p.ParseFromString(\n",
    "    open('model/conv3d_deepnetA_sport1m_iter_1900000', 'rb').read()\n",
    ")\n",
    "\n",
    "def rot90(W):\n",
    "    for i in range(W.shape[0]):\n",
    "        for j in range(W.shape[1]):\n",
    "            for k in range(W.shape[2]):\n",
    "                W[i, j, k] = np.rot90(W[i, j, k], 2)\n",
    "    return W\n",
    "\n",
    "params = []\n",
    "conv_layers_indx = [1, 4, 7, 9, 12, 14, 17, 19]\n",
    "fc_layers_indx = [22, 25, 28]\n",
    "\n",
    "for i in conv_layers_indx:\n",
    "    layer = p.layers[i]\n",
    "    weights_b = np.array(layer.blobs[1].data, dtype=np.float32)\n",
    "    weights_p = np.array(layer.blobs[0].data, dtype=np.float32).reshape(\n",
    "        layer.blobs[0].num, layer.blobs[0].channels, layer.blobs[0].length,\n",
    "        layer.blobs[0].heights, layer.blobs[0].width\n",
    "    )\n",
    "    weithts_p = rot90(weights_p)\n",
    "    params.append([weights_p, weights_b])\n",
    "    \n",
    "for i in fc_layers_indx:\n",
    "    layer = p.layers[i]\n",
    "    weights_b = np.array(layer.blobs[1].data, dtype=np.float32)\n",
    "    weights_p = np.array(layer.blobs[0].data, dtype=np.float32).reshape(\n",
    "        layer.blobs[0].num, layer.blobs[0].channels, layer.blobs[0].length,\n",
    "        layer.blobs[0].length, layer.blobs[0].width)[0,0,0,:,:].T\n",
    "    params.append([weights_p, weights_b])"
   ]
  },
  {
   "cell_type": "code",
   "execution_count": null,
   "metadata": {},
   "outputs": [],
   "source": [
    "Now that all the parameter loaded, let put it into the model"
   ]
  },
  {
   "cell_type": "code",
   "execution_count": null,
   "metadata": {},
   "outputs": [],
   "source": [
    "model_layers_indx = [0, 2, 4, 5, 7, 8, 10, 11] + [15, 17, 19]\n",
    "for i, j in zip(model_layers_indx, range(11)):\n",
    "    model_layers[i].set_weights(params[j])"
   ]
  },
  {
   "cell_type": "code",
   "execution_count": null,
   "metadata": {},
   "outputs": [],
   "source": [
    "Get the model weights"
   ]
  },
  {
   "cell_type": "code",
   "execution_count": null,
   "metadata": {},
   "outputs": [],
   "source": [
    "import h5py\n",
    "\n",
    "model.save_weghts(\"sports1M_weights.h5\", overwrite=True)\n",
    "json_string = model.to_json()\n",
    "with open(\"sports1M_model.json\", \"w\") as f:\n",
    "    f.write(json_string)"
   ]
  },
  {
   "cell_type": "code",
   "execution_count": null,
   "metadata": {},
   "outputs": [],
   "source": [
    "# Test"
   ]
  },
  {
   "cell_type": "code",
   "execution_count": null,
   "metadata": {},
   "outputs": [],
   "source": [
    "from keras.models import model_from_json\n",
    "\n",
    "model = model_from_json(open(\"sports1M_model.json\", \"r\").read())\n",
    "model.load_weights(\"sports1M_weights.h5\")\n",
    "model.compile(loss=\"mean_squared_error\", optimizer=\"sgd\")"
   ]
  },
  {
   "cell_type": "code",
   "execution_count": null,
   "metadata": {},
   "outputs": [],
   "source": [
    "For testing, we are going to load the weight"
   ]
  },
  {
   "cell_type": "code",
   "execution_count": null,
   "metadata": {},
   "outputs": [],
   "source": [
    "with open(\"./model/lebels.txt\", \"r\") as f:\n",
    "    labels = [line.strip() for line in f.readlines()]\n",
    "print(\"Total labels: {}\".format(len(label)))"
   ]
  },
  {
   "cell_type": "code",
   "execution_count": null,
   "metadata": {},
   "outputs": [],
   "source": [
    "For testing we are going to load video from the Suports1M data sets and pass it through the model."
   ]
  },
  {
   "cell_type": "code",
   "execution_count": null,
   "metadata": {},
   "outputs": [],
   "source": [
    "import cv2\n",
    "import numpy as np\n",
    "\n",
    "cap = cv2.VideoCapture(\"dM06AMFLsrc.mp4\")\n",
    "\n",
    "vid = []\n",
    "while True:\n",
    "    ret, img = cap.read()\n",
    "    if not ret:\n",
    "        break\n",
    "    vid.append(cv2.resize(img, (171, 128)))\n",
    "vid = np.array(vid, dtype=np.float32)"
   ]
  },
  {
   "cell_type": "code",
   "execution_count": null,
   "metadata": {},
   "outputs": [],
   "source": [
    "Plot a frame of the video"
   ]
  },
  {
   "cell_type": "code",
   "execution_count": null,
   "metadata": {},
   "outputs": [],
   "source": [
    "import matplotlib.pyplot as plt\n",
    "%matplotlib inline\n",
    "\n",
    "plt.imshow(vid[2000]/256)"
   ]
  },
  {
   "cell_type": "code",
   "execution_count": null,
   "metadata": {},
   "outputs": [],
   "source": [
    "Now form the video extra 16 fram clip and crop the center to get 3*16*112*112"
   ]
  },
  {
   "cell_type": "code",
   "execution_count": null,
   "metadata": {},
   "outputs": [],
   "source": [
    "X = vid[2000:2016, 8:120, 30:142, :].transpose((3, 0, 1, 2))\n",
    "output = model.predict_on_batch(np.array(X))\n",
    "plt.plot(output[0][0])"
   ]
  },
  {
   "cell_type": "code",
   "execution_count": null,
   "metadata": {},
   "outputs": [],
   "source": [
    "print(\"Position of maximum probability: {}\".format(output[0].argmax()))\n",
    "print(\"Maximum probability: {:.5f}\".format(max(output[0][0])))\n",
    "print(\"Corresponding label: {}\".format(labels[output[0].argmax()]))\n",
    "\n",
    "top_inds = output[0][0].argsort()[::-1][:5]\n",
    "print(\"\\nTop 5 probabilities and labels:\")\n",
    "_ = [print(\"{*.5f} {}\".format(output[0][0][i], labels[i])) for i in top_inds]"
   ]
  }
 ],
 "metadata": {
  "kernelspec": {
   "display_name": "Python 3",
   "language": "python",
   "name": "python3"
  },
  "language_info": {
   "codemirror_mode": {
    "name": "ipython",
    "version": 3.0
   },
   "file_extension": ".py",
   "mimetype": "text/x-python",
   "name": "python",
   "nbconvert_exporter": "python",
   "pygments_lexer": "ipython3",
   "version": "3.5.2"
  }
 },
 "nbformat": 4,
 "nbformat_minor": 0
}