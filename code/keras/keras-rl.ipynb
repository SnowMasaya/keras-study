{
 "cells": [
  {
   "cell_type": "code",
   "execution_count": 1,
   "metadata": {
    "collapsed": false,
    "deletable": true,
    "editable": true
   },
   "outputs": [
    {
     "name": "stderr",
     "output_type": "stream",
     "text": [
      "/usr/lib/python2.7/dist-packages/matplotlib/font_manager.py:273: UserWarning: Matplotlib is building the font cache using fc-list. This may take a moment.\n",
      "  warnings.warn('Matplotlib is building the font cache using fc-list. This may take a moment.')\n",
      "Using TensorFlow backend.\n"
     ]
    },
    {
     "name": "stdout",
     "output_type": "stream",
     "text": [
      "You do not have RMSpropGraves\n"
     ]
    }
   ],
   "source": [
    "from __future__ import division\n",
    "\n",
    "import argparse\n",
    "import os\n",
    "\n",
    "import matplotlib.animation as animation\n",
    "import matplotlib.pyplot as plt\n",
    "from collections import deque\n",
    "\n",
    "%matplotlib inline\n",
    "\n",
    "from catch_ball import CatchBall\n",
    "from dqn_agent import DQNAgent"
   ]
  },
  {
   "cell_type": "code",
   "execution_count": 3,
   "metadata": {
    "collapsed": false,
    "deletable": true,
    "editable": true
   },
   "outputs": [],
   "source": [
    "state_num = 4\n",
    "\n",
    "\n",
    "def init():\n",
    "    img.set_array(state_t_1)\n",
    "    plt.axis(\"off\")\n",
    "    return img,\n",
    "\n",
    "\n",
    "def animate(step):\n",
    "    global n_catched, S\n",
    "    global state_t_1, reward_t, terminal\n",
    "\n",
    "    if terminal:\n",
    "        env.reset()\n",
    "\n",
    "        print(\"SCORE: {0:03d}\".format(n_catched))\n",
    "        n_catched = 0\n",
    "    else:\n",
    "        state_t = state_t_1\n",
    "\n",
    "        if reward_t == 1:\n",
    "            n_catched += 1\n",
    "        # execute action in environment\n",
    "        action_t = agent.select_action([state_t], 0.0)\n",
    "        env.execute_action(action_t)\n",
    "\n",
    "    # observe environment\n",
    "    state_t_1, reward_t, terminal = env.observe()\n",
    "\n",
    "    # animate\n",
    "    img.set_array(state_t_1)\n",
    "    plt.axis(\"off\")\n",
    "    return img,"
   ]
  }
 ],
 "metadata": {
  "kernelspec": {
   "display_name": "Python 2",
   "language": "python",
   "name": "python2"
  },
  "language_info": {
   "codemirror_mode": {
    "name": "ipython",
    "version": 2
   },
   "file_extension": ".py",
   "mimetype": "text/x-python",
   "name": "python",
   "nbconvert_exporter": "python",
   "pygments_lexer": "ipython2",
   "version": "2.7.12"
  }
 },
 "nbformat": 4,
 "nbformat_minor": 0
}
