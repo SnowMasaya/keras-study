{
 "cells": [
  {
   "cell_type": "markdown",
   "metadata": {},
   "source": [
    "# Data"
   ]
  },
  {
   "cell_type": "code",
   "execution_count": 1,
   "metadata": {
    "collapsed": false
   },
   "outputs": [],
   "source": [
    "import numpy as np\n",
    "import edward as ed\n",
    "import tensorflow as tf\n",
    "\n",
    "ed.set_seed(42)\n",
    "\n",
    "df = np.loadtxt('data/crabs_train.txt', dtype='float32', delimiter=',')\n",
    "\n",
    "N = 25  # number of data points\n",
    "subset = np.random.choice(df.shape[0], N, replace=False)\n",
    "X_train = df[subset, 1:]\n",
    "y_train = df[subset, 0]"
   ]
  },
  {
   "cell_type": "markdown",
   "metadata": {},
   "source": [
    "# Model"
   ]
  },
  {
   "cell_type": "code",
   "execution_count": 2,
   "metadata": {
    "collapsed": false
   },
   "outputs": [
    {
     "name": "stderr",
     "output_type": "stream",
     "text": [
      "/opt/conda/lib/python3.5/site-packages/edward/stats/distributions.py:22: DeprecationWarning: edward.stats is deprecated. If calling rvs() from the distribution, use scipy.stats; if calling density methods from the distribution, use edward.models.\n",
      "  DeprecationWarning)\n",
      "/opt/conda/lib/python3.5/site-packages/edward/inferences/inference.py:182: DeprecationWarning: Model wrappers are deprecated. Edward is dropping support for model wrappers in future versions; use the native language instead.\n",
      "  \"native language instead.\", DeprecationWarning)\n"
     ]
    },
    {
     "name": "stdout",
     "output_type": "stream",
     "text": [
      "Iteration   1 [  0%]: Loss = 96.700\n",
      "Iteration  50 [ 10%]: Loss = 9.654\n",
      "Iteration 100 [ 20%]: Loss = 1.378\n",
      "Iteration 150 [ 30%]: Loss = 5.139\n",
      "Iteration 200 [ 40%]: Loss = 1.775\n",
      "Iteration 250 [ 50%]: Loss = 3.698\n",
      "Iteration 300 [ 60%]: Loss = 5.092\n",
      "Iteration 350 [ 70%]: Loss = 3.010\n",
      "Iteration 400 [ 80%]: Loss = 3.006\n",
      "Iteration 450 [ 90%]: Loss = 4.831\n",
      "Iteration 500 [100%]: Loss = 4.089\n"
     ]
    }
   ],
   "source": [
    "from __future__ import absolute_import\n",
    "from __future__ import division\n",
    "from __future__ import print_function\n",
    "\n",
    "import edward as ed\n",
    "import numpy as np\n",
    "import tensorflow as tf\n",
    "\n",
    "from edward.models import Normal\n",
    "from edward.stats import bernoulli, multivariate_normal\n",
    "from edward.util import multivariate_rbf\n",
    "\n",
    "\n",
    "class GaussianProcess:\n",
    "  \"\"\"\n",
    "  Gaussian process classification\n",
    "  p((x,y), z) = Bernoulli(y | logit^{-1}(x*z)) *\n",
    "                Normal(z | 0, K),\n",
    "  where z are weights drawn from a GP with covariance given by k(x,\n",
    "  x') for each pair of inputs (x, x'), and with squared-exponential\n",
    "  kernel and known kernel hyperparameters.\n",
    "  Parameters\n",
    "  ----------\n",
    "  N : int\n",
    "    Number of data points.\n",
    "  sigma : float, optional\n",
    "    Signal variance parameter.\n",
    "  l : float, optional\n",
    "    Length scale parameter.\n",
    "  \"\"\"\n",
    "  def __init__(self, N, sigma=1.0, l=1.0):\n",
    "    self.N = N\n",
    "    self.sigma = sigma\n",
    "    self.l = l\n",
    "\n",
    "    self.n_vars = N\n",
    "    self.inverse_link = tf.sigmoid\n",
    "\n",
    "  def kernel(self, x):\n",
    "    mat = []\n",
    "    for i in range(self.N):\n",
    "      mat += [[]]\n",
    "      xi = x[i, :]\n",
    "      for j in range(self.N):\n",
    "        if j == i:\n",
    "          mat[i] += [multivariate_rbf(xi, xi, self.sigma, self.l)]\n",
    "        else:\n",
    "          xj = x[j, :]\n",
    "          mat[i] += [multivariate_rbf(xi, xj, self.sigma, self.l)]\n",
    "\n",
    "      mat[i] = tf.stack(mat[i])\n",
    "\n",
    "    return tf.stack(mat)\n",
    "\n",
    "  def log_prob(self, xs, zs):\n",
    "    \"\"\"Return scalar, the log joint density log p(xs, zs).\"\"\"\n",
    "    x, y = xs['x'], xs['y']\n",
    "    log_prior = multivariate_normal.logpdf(\n",
    "        zs['z'], tf.zeros(self.N), self.kernel(x))\n",
    "    log_lik = tf.reduce_sum(\n",
    "        bernoulli.logpmf(y, p=self.inverse_link(y * zs['z'])))\n",
    "    return log_prior + log_lik\n",
    "\n",
    "\n",
    "ed.set_seed(42)\n",
    "\n",
    "model = GaussianProcess(N)\n",
    "\n",
    "qz_mu = tf.Variable(tf.random_normal([model.n_vars]))\n",
    "qz_sigma = tf.nn.softplus(tf.Variable(tf.random_normal([model.n_vars])))\n",
    "qz = Normal(mu=qz_mu, sigma=qz_sigma)\n",
    "\n",
    "data = {'x': X_train, 'y': y_train}\n",
    "inference = ed.KLqp({'z': qz}, data, model)\n",
    "inference.run(n_iter=500)"
   ]
  },
  {
   "cell_type": "code",
   "execution_count": null,
   "metadata": {
    "collapsed": true
   },
   "outputs": [],
   "source": []
  }
 ],
 "metadata": {
  "kernelspec": {
   "display_name": "Python 3",
   "language": "python",
   "name": "python3"
  },
  "language_info": {
   "codemirror_mode": {
    "name": "ipython",
    "version": 3
   },
   "file_extension": ".py",
   "mimetype": "text/x-python",
   "name": "python",
   "nbconvert_exporter": "python",
   "pygments_lexer": "ipython3",
   "version": "3.5.2"
  }
 },
 "nbformat": 4,
 "nbformat_minor": 2
}
