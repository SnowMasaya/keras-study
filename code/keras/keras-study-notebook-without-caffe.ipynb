{
 "cells": [
  {
   "cell_type": "markdown",
   "metadata": {
    "deletable": true,
    "editable": true
   },
   "source": [
    "# Sports 1M C3D Network to Keras"
   ]
  },
  {
   "cell_type": "code",
   "execution_count": 1,
   "metadata": {
    "collapsed": false,
    "deletable": true,
    "editable": true
   },
   "outputs": [
    {
     "name": "stderr",
     "output_type": "stream",
     "text": [
      "Using Theano backend.\n"
     ]
    }
   ],
   "source": [
    "from keras.models import Sequential\n",
    "from keras.layers.core import Dense, Dropout, Flatten\n",
    "from keras.layers.convolutional import Convolution3D, MaxPooling3D, ZeroPadding3D\n",
    "from keras.optimizers import SGD"
   ]
  },
  {
   "cell_type": "code",
   "execution_count": 4,
   "metadata": {
    "collapsed": false,
    "deletable": true,
    "editable": true
   },
   "outputs": [
    {
     "name": "stdout",
     "output_type": "stream",
     "text": [
      "____________________________________________________________________________________________________\n",
      "Layer (type)                       Output Shape        Param #     Connected to                     \n",
      "====================================================================================================\n",
      "conv1 (Convolution3D)              (None, 64, 16, 112, 5248        convolution3d_input_1[0][0]      \n",
      "____________________________________________________________________________________________________\n",
      "pool1 (MaxPooling3D)               (None, 64, 16, 56, 50           conv1[0][0]                      \n",
      "____________________________________________________________________________________________________\n",
      "conv2 (Convolution3D)              (None, 128, 16, 56, 221312      pool1[0][0]                      \n",
      "____________________________________________________________________________________________________\n",
      "pool2 (MaxPooling3D)               (None, 128, 8, 28, 20           conv2[0][0]                      \n",
      "____________________________________________________________________________________________________\n",
      "conv3a (Convolution3D)             (None, 256, 8, 28, 2884992      pool2[0][0]                      \n",
      "____________________________________________________________________________________________________\n",
      "conv3b (Convolution3D)             (None, 256, 8, 28, 21769728     conv3a[0][0]                     \n",
      "____________________________________________________________________________________________________\n",
      "pool3 (MaxPooling3D)               (None, 256, 4, 14, 10           conv3b[0][0]                     \n",
      "____________________________________________________________________________________________________\n",
      "zeropadding3d_1 (ZeroPadding3D)    (None, 256, 4, 16, 10           pool3[0][0]                      \n",
      "____________________________________________________________________________________________________\n",
      "conv4a (Convolution3D)             (None, 512, 4, 16, 13539456     zeropadding3d_1[0][0]            \n",
      "____________________________________________________________________________________________________\n",
      "conv4b (Convolution3D)             (None, 512, 4, 16, 17078400     conv4a[0][0]                     \n",
      "____________________________________________________________________________________________________\n",
      "pool4 (MaxPooling3D)               (None, 512, 2, 8, 8)0           conv4b[0][0]                     \n",
      "____________________________________________________________________________________________________\n",
      "conv5a (Convolution3D)             (None, 512, 2, 8, 8)7078400     pool4[0][0]                      \n",
      "____________________________________________________________________________________________________\n",
      "conv5b (Convolution3D)             (None, 512, 2, 8, 8)7078400     conv5a[0][0]                     \n",
      "____________________________________________________________________________________________________\n",
      "zeropadding3d_2 (ZeroPadding3D)    (None, 512, 2, 10, 10           conv5b[0][0]                     \n",
      "____________________________________________________________________________________________________\n",
      "pool5 (MaxPooling3D)               (None, 512, 1, 5, 5)0           zeropadding3d_2[0][0]            \n",
      "____________________________________________________________________________________________________\n",
      "flatten_1 (Flatten)                (None, 12800)       0           pool5[0][0]                      \n",
      "____________________________________________________________________________________________________\n",
      "fc6 (Dense)                        (None, 2048)        26216448    flatten_1[0][0]                  \n",
      "____________________________________________________________________________________________________\n",
      "dropout_1 (Dropout)                (None, 2048)        0           fc6[0][0]                        \n",
      "____________________________________________________________________________________________________\n",
      "fc7 (Dense)                        (None, 2048)        4196352     dropout_1[0][0]                  \n",
      "____________________________________________________________________________________________________\n",
      "dropout_2 (Dropout)                (None, 2048)        0           fc7[0][0]                        \n",
      "____________________________________________________________________________________________________\n",
      "fc8 (Dense)                        (None, 487)         997863      dropout_2[0][0]                  \n",
      "====================================================================================================\n",
      "Total params: 59066599\n",
      "____________________________________________________________________________________________________\n",
      "None\n"
     ]
    }
   ],
   "source": [
    "def get_model(summary=False):\n",
    "    \"\"\" Return the Keras model of the network\n",
    "    \"\"\"\n",
    "    model = Sequential()\n",
    "    # 1st layer group\n",
    "    model.add(Convolution3D(64, 3, 3, 3, activation='relu', \n",
    "                            border_mode='same', name='conv1',\n",
    "                            subsample=(1, 1, 1), \n",
    "                            input_shape=(3, 16, 112, 112)))\n",
    "    model.add(MaxPooling3D(pool_size=(1, 2, 2), strides=(1, 2, 2), \n",
    "                           border_mode='valid', name='pool1'))\n",
    "    # 2nd layer group\n",
    "    model.add(Convolution3D(128, 3, 3, 3, activation='relu', \n",
    "                            border_mode='same', name='conv2',\n",
    "                            subsample=(1, 1, 1)))\n",
    "    model.add(MaxPooling3D(pool_size=(2, 2, 2), strides=(2, 2, 2), \n",
    "                           border_mode='valid', name='pool2'))\n",
    "    # 3rd layer group\n",
    "    model.add(Convolution3D(256, 3, 3, 3, activation='relu', \n",
    "                            border_mode='same', name='conv3a',\n",
    "                            subsample=(1, 1, 1)))\n",
    "    model.add(Convolution3D(256, 3, 3, 3, activation='relu', \n",
    "                            border_mode='same', name='conv3b',\n",
    "                            subsample=(1, 1, 1)))\n",
    "    model.add(MaxPooling3D(pool_size=(1, 2, 2), strides=(2, 2, 2), \n",
    "                           border_mode='valid', name='pool3'))\n",
    "    model.add(ZeroPadding3D(padding=(0, 1, 1)))\n",
    "    # 4th layer group\n",
    "    model.add(Convolution3D(512, 3, 3, 3, activation='relu', \n",
    "                            border_mode='same', name='conv4a',\n",
    "                            subsample=(1, 1, 1)))\n",
    "    model.add(Convolution3D(512, 3, 3, 3, activation='relu', \n",
    "                            border_mode='same', name='conv4b',\n",
    "                            subsample=(1, 1, 1)))\n",
    "    model.add(MaxPooling3D(pool_size=(1, 2, 2), strides=(2, 2, 2), \n",
    "                           border_mode='valid', name='pool4'))\n",
    "    # 5th layer group\n",
    "    model.add(Convolution3D(512, 3, 3, 3, activation='relu', \n",
    "                            border_mode='same', name='conv5a',\n",
    "                            subsample=(1, 1, 1)))\n",
    "    model.add(Convolution3D(512, 3, 3, 3, activation='relu', \n",
    "                            border_mode='same', name='conv5b',\n",
    "                            subsample=(1, 1, 1)))\n",
    "    model.add(ZeroPadding3D(padding=(0, 1, 1)))\n",
    "    model.add(MaxPooling3D(pool_size=(1, 2, 2), strides=(2, 2, 2), \n",
    "                           border_mode='valid', name='pool5'))\n",
    "    model.add(Flatten())\n",
    "    # FC layers group\n",
    "    model.add(Dense(2048, activation='relu', name='fc6'))\n",
    "    model.add(Dropout(.5))\n",
    "    model.add(Dense(2048, activation='relu', name='fc7'))\n",
    "    model.add(Dropout(.5))\n",
    "    model.add(Dense(487, activation='softmax', name='fc8'))\n",
    "    if summary:\n",
    "        print(model.summary())\n",
    "    return model\n",
    "\n",
    "model = get_model(summary=True)"
   ]
  },
  {
   "cell_type": "markdown",
   "metadata": {
    "deletable": true,
    "editable": true
   },
   "source": [
    "# Loding Paramater"
   ]
  },
  {
   "cell_type": "code",
   "execution_count": 7,
   "metadata": {
    "collapsed": false,
    "deletable": true,
    "editable": true
   },
   "outputs": [
    {
     "name": "stdout",
     "output_type": "stream",
     "text": [
      "('Downloading data from', 'https://www.dropbox.com/s/ypiwalgtlrtnw8b/c3d-sports1M_weights.h5?dl=1')\n"
     ]
    },
    {
     "name": "stderr",
     "output_type": "stream",
     "text": [
      "100% (319994444 of 319994444) |############| Elapsed Time: 0:03:08 Time: 0:03:08\n"
     ]
    },
    {
     "name": "stdout",
     "output_type": "stream",
     "text": [
      "____________________________________________________________________________________________________\n",
      "Layer (type)                       Output Shape        Param #     Connected to                     \n",
      "====================================================================================================\n",
      "conv1 (Convolution3D)              (None, 64, 16, 112, 5248        convolution3d_input_3[0][0]      \n",
      "____________________________________________________________________________________________________\n",
      "pool1 (MaxPooling3D)               (None, 64, 16, 56, 50           conv1[0][0]                      \n",
      "____________________________________________________________________________________________________\n",
      "conv2 (Convolution3D)              (None, 128, 16, 56, 221312      pool1[0][0]                      \n",
      "____________________________________________________________________________________________________\n",
      "pool2 (MaxPooling3D)               (None, 128, 8, 28, 20           conv2[0][0]                      \n",
      "____________________________________________________________________________________________________\n",
      "conv3a (Convolution3D)             (None, 256, 8, 28, 2884992      pool2[0][0]                      \n",
      "____________________________________________________________________________________________________\n",
      "conv3b (Convolution3D)             (None, 256, 8, 28, 21769728     conv3a[0][0]                     \n",
      "____________________________________________________________________________________________________\n",
      "pool3 (MaxPooling3D)               (None, 256, 4, 14, 10           conv3b[0][0]                     \n",
      "____________________________________________________________________________________________________\n",
      "conv4a (Convolution3D)             (None, 512, 4, 14, 13539456     pool3[0][0]                      \n",
      "____________________________________________________________________________________________________\n",
      "conv4b (Convolution3D)             (None, 512, 4, 14, 17078400     conv4a[0][0]                     \n",
      "____________________________________________________________________________________________________\n",
      "pool4 (MaxPooling3D)               (None, 512, 2, 7, 7)0           conv4b[0][0]                     \n",
      "____________________________________________________________________________________________________\n",
      "conv5a (Convolution3D)             (None, 512, 2, 7, 7)7078400     pool4[0][0]                      \n",
      "____________________________________________________________________________________________________\n",
      "conv5b (Convolution3D)             (None, 512, 2, 7, 7)7078400     conv5a[0][0]                     \n",
      "____________________________________________________________________________________________________\n",
      "zeropadding3d_4 (ZeroPadding3D)    (None, 512, 2, 9, 9)0           conv5b[0][0]                     \n",
      "____________________________________________________________________________________________________\n",
      "pool5 (MaxPooling3D)               (None, 512, 1, 4, 4)0           zeropadding3d_4[0][0]            \n",
      "____________________________________________________________________________________________________\n",
      "flatten_3 (Flatten)                (None, 8192)        0           pool5[0][0]                      \n",
      "____________________________________________________________________________________________________\n",
      "fc6 (Dense)                        (None, 4096)        33558528    flatten_3[0][0]                  \n",
      "____________________________________________________________________________________________________\n",
      "dropout_5 (Dropout)                (None, 4096)        0           fc6[0][0]                        \n",
      "____________________________________________________________________________________________________\n",
      "fc7 (Dense)                        (None, 4096)        16781312    dropout_5[0][0]                  \n",
      "____________________________________________________________________________________________________\n",
      "dropout_6 (Dropout)                (None, 4096)        0           fc7[0][0]                        \n",
      "____________________________________________________________________________________________________\n",
      "fc8 (Dense)                        (None, 487)         1995239     dropout_6[0][0]                  \n",
      "====================================================================================================\n",
      "Total params: 79991015\n",
      "____________________________________________________________________________________________________\n",
      "None\n"
     ]
    }
   ],
   "source": [
    "from kerasmodelzoo.models import c3d\n",
    "\n",
    "model = c3d.model(weights=True, summary=True)"
   ]
  },
  {
   "cell_type": "markdown",
   "metadata": {
    "deletable": true,
    "editable": true
   },
   "source": [
    "Get the model weights"
   ]
  },
  {
   "cell_type": "code",
   "execution_count": 9,
   "metadata": {
    "collapsed": false,
    "deletable": true,
    "editable": true
   },
   "outputs": [],
   "source": [
    "import h5py\n",
    "\n",
    "model.save_weights(\"sports1M_weights.h5\", overwrite=True)\n",
    "json_string = model.to_json()\n",
    "with open(\"sports1M_model.json\", \"w\") as f:\n",
    "    f.write(json_string)"
   ]
  },
  {
   "cell_type": "markdown",
   "metadata": {
    "deletable": true,
    "editable": true
   },
   "source": [
    "# Test"
   ]
  },
  {
   "cell_type": "code",
   "execution_count": 10,
   "metadata": {
    "collapsed": true,
    "deletable": true,
    "editable": true
   },
   "outputs": [],
   "source": [
    "from keras.models import model_from_json\n",
    "\n",
    "model = model_from_json(open(\"sports1M_model.json\", \"r\").read())\n",
    "model.load_weights(\"sports1M_weights.h5\")\n",
    "model.compile(loss=\"mean_squared_error\", optimizer=\"sgd\")"
   ]
  },
  {
   "cell_type": "markdown",
   "metadata": {
    "deletable": true,
    "editable": true
   },
   "source": [
    "For testing, we are going to load the weight"
   ]
  },
  {
   "cell_type": "code",
   "execution_count": 13,
   "metadata": {
    "collapsed": false,
    "deletable": true,
    "editable": true
   },
   "outputs": [
    {
     "name": "stdout",
     "output_type": "stream",
     "text": [
      "Total labels: 487\n"
     ]
    }
   ],
   "source": [
    "with open(\"../model/model/labels.txt\", \"r\") as f:\n",
    "    labels = [line.strip() for line in f.readlines()]\n",
    "print(\"Total labels: {}\".format(len(labels)))"
   ]
  },
  {
   "cell_type": "markdown",
   "metadata": {
    "deletable": true,
    "editable": true
   },
   "source": [
    "For testing we are going to load video from the Suports1M data sets and pass it through the model."
   ]
  },
  {
   "cell_type": "code",
   "execution_count": 15,
   "metadata": {
    "collapsed": true,
    "deletable": true,
    "editable": true
   },
   "outputs": [],
   "source": [
    "import cv2\n",
    "import numpy as np\n",
    "\n",
    "cap = cv2.VideoCapture(\"../model/test_data.mp4\")\n",
    "\n",
    "vid = []\n",
    "while True:\n",
    "    ret, img = cap.read()\n",
    "    if not ret:\n",
    "        break\n",
    "    vid.append(cv2.resize(img, (171, 128)))\n",
    "vid = np.array(vid, dtype=np.float32)"
   ]
  },
  {
   "cell_type": "markdown",
   "metadata": {
    "deletable": true,
    "editable": true
   },
   "source": [
    "Plot a frame of the video"
   ]
  },
  {
   "cell_type": "code",
   "execution_count": 16,
   "metadata": {
    "collapsed": false,
    "deletable": true,
    "editable": true
   },
   "outputs": [
    {
     "name": "stderr",
     "output_type": "stream",
     "text": [
      "/usr/lib/python2.7/dist-packages/matplotlib/font_manager.py:273: UserWarning: Matplotlib is building the font cache using fc-list. This may take a moment.\n",
      "  warnings.warn('Matplotlib is building the font cache using fc-list. This may take a moment.')\n"
     ]
    },
    {
     "data": {
      "text/plain": [
       "<matplotlib.image.AxesImage at 0x7f82b5a04e50>"
      ]
     },
     "execution_count": 16,
     "metadata": {},
     "output_type": "execute_result"
    },
    {
     "data": {
      "image/png": "[encoded data removed]",
      "text/plain": [
       "<matplotlib.figure.Figure at 0x7f82b442df50>"
      ]
     },
     "metadata": {},
     "output_type": "display_data"
    }
   ],
   "source": [
    "import matplotlib.pyplot as plt\n",
    "%matplotlib inline\n",
    "\n",
    "plt.imshow(vid[2000]/256)"
   ]
  },
  {
   "cell_type": "markdown",
   "metadata": {
    "deletable": true,
    "editable": true
   },
   "source": [
    "Now form the video extra 16 fram clip and crop the center to get 3*16*112*112"
   ]
  },
  {
   "cell_type": "code",
   "execution_count": 20,
   "metadata": {
    "collapsed": false,
    "deletable": true,
    "editable": true
   },
   "outputs": [],
   "source": [
    "X = vid[2000:2016, 8:120, 30:142, :].transpose((3, 0, 1, 2))\n",
    "output = model.predict_on_batch(np.array([X]))"
   ]
  },
  {
   "cell_type": "code",
   "execution_count": 32,
   "metadata": {
    "collapsed": false
   },
   "outputs": [
    {
     "data": {
      "text/plain": [
       "[<matplotlib.lines.Line2D at 0x7f81e6557290>]"
      ]
     },
     "execution_count": 32,
     "metadata": {},
     "output_type": "execute_result"
    },
    {
     "data": {
      "image/png": "[encoded data removed]",
      "text/plain": [
       "<matplotlib.figure.Figure at 0x7f82b4ac16d0>"
      ]
     },
     "metadata": {},
     "output_type": "display_data"
    }
   ],
   "source": [
    "plt.plot(output[0])"
   ]
  },
  {
   "cell_type": "code",
   "execution_count": 31,
   "metadata": {
    "collapsed": false,
    "deletable": true,
    "editable": true
   },
   "outputs": [
    {
     "name": "stdout",
     "output_type": "stream",
     "text": [
      "Position of maximum probability: 367\n",
      "Maximum probability: 0.527280986309\n",
      "Corresponding label: basketball\n",
      "\n",
      "Top 5 probabilities and labels:\n",
      "0.52728 basketball\n",
      "0.29820 streetball\n",
      "0.02856 greco-roman wrestling\n",
      "0.02103 freestyle wrestling\n",
      "0.01411 wrestling\n"
     ]
    }
   ],
   "source": [
    "print('Position of maximum probability: {}'.format(output[0].argmax()))\n",
    "print('Maximum probability: {}'.format(max(output[0])))\n",
    "print('Corresponding label: {}'.format(labels[output[0].argmax()]))\n",
    "\n",
    "# sort top five predictions from softmax output\n",
    "top_inds = output[0].argsort()[::-1][:5]  # reverse sort and take five largest items\n",
    "print('\\nTop 5 probabilities and labels:')\n",
    "for i in top_inds:\n",
    "    print('{:.5f} {}'.format(output[0][i], labels[i]))"
   ]
  },
  {
   "cell_type": "code",
   "execution_count": null,
   "metadata": {
    "collapsed": true
   },
   "outputs": [],
   "source": [
    ""
   ]
  }
 ],
 "metadata": {
  "kernelspec": {
   "display_name": "Python 2",
   "language": "python",
   "name": "python2"
  },
  "language_info": {
   "codemirror_mode": {
    "name": "ipython",
    "version": 2.0
   },
   "file_extension": ".py",
   "mimetype": "text/x-python",
   "name": "python",
   "nbconvert_exporter": "python",
   "pygments_lexer": "ipython2",
   "version": "2.7.12"
  }
 },
 "nbformat": 4,
 "nbformat_minor": 0
}