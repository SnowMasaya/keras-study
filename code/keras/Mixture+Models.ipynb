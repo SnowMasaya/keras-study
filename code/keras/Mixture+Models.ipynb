{
 "cells": [
  {
   "cell_type": "markdown",
   "metadata": {},
   "source": [
    "# Library"
   ]
  },
  {
   "cell_type": "code",
   "execution_count": 7,
   "metadata": {
    "collapsed": true
   },
   "outputs": [],
   "source": [
    "import edward as ed\n",
    "import matplotlib.pyplot as plt\n",
    "import matplotlib.cm as cm\n",
    "import numpy as np\n",
    "import six \n",
    "import tensorflow as tf\n",
    "from edward.models import Categorical, InverseGamma,Mixture, MultivariateNormalDiag, Normal"
   ]
  },
  {
   "cell_type": "code",
   "execution_count": 8,
   "metadata": {
    "collapsed": true
   },
   "outputs": [],
   "source": [
    "plt.style.use(\"ggplot\")"
   ]
  },
  {
   "cell_type": "markdown",
   "metadata": {},
   "source": [
    "# Data"
   ]
  },
  {
   "cell_type": "code",
   "execution_count": 12,
   "metadata": {
    "collapsed": true
   },
   "outputs": [],
   "source": [
    "def build_toy_dataset(N):\n",
    "    pi = np.array([0.4, 0.6])\n",
    "    mus = [[1, 1,], [-1, -1]]\n",
    "    stds = [[0.1, 0.1], [0.1, 0.1]]\n",
    "    x = np.zeros((N, 2), dtype=np.float32)\n",
    "    for n in range(N):\n",
    "        k = np.argmax(np.random.multinomial(1, pi))\n",
    "        x[n, :] = np.random.multivariate_normal(mus[k], np.diag(stds[k]))\n",
    "    \n",
    "    return x"
   ]
  },
  {
   "cell_type": "code",
   "execution_count": 13,
   "metadata": {
    "collapsed": true
   },
   "outputs": [],
   "source": [
    "N = 500\n",
    "K = 2\n",
    "D = 2\n",
    "ed.set_seed(42)"
   ]
  },
  {
   "cell_type": "code",
   "execution_count": 14,
   "metadata": {
    "collapsed": false
   },
   "outputs": [
    {
     "data": {
      "image/png": "[encoded data removed]",
      "text/plain": [
       "<matplotlib.figure.Figure at 0x7fee00ca8400>"
      ]
     },
     "metadata": {},
     "output_type": "display_data"
    }
   ],
   "source": [
    "x_train = build_toy_dataset(N)\n",
    "plt.scatter(x_train[:, 0], x_train[:, 1])\n",
    "plt.axis([-3, 3, -3, 3])\n",
    "plt.title(\"Simulated dataset\")\n",
    "plt.show()"
   ]
  },
  {
   "cell_type": "markdown",
   "metadata": {},
   "source": [
    "# Model"
   ]
  },
  {
   "cell_type": "code",
   "execution_count": 17,
   "metadata": {
    "collapsed": false
   },
   "outputs": [],
   "source": [
    "mu = Normal(mu=tf.zeros([K, D]), sigma=tf.ones([K, D]))\n",
    "sigma = InverseGamma(alpha=tf.ones([K, D]), beta=tf.ones([K, D]))\n",
    "cat = Categorical(logits=tf.zeros([N, K]))\n",
    "\n",
    "components = [\n",
    "    MultivariateNormalDiag(mu=tf.ones([N, 1]) * tf.gather(mu, k),\n",
    "                          diag_stdev=tf.ones([N, 1]) * tf.gather(sigma, k))\n",
    "    for k in range(K)\n",
    "]\n",
    "\n",
    "x = Mixture(cat=cat, components=components)"
   ]
  },
  {
   "cell_type": "markdown",
   "metadata": {},
   "source": [
    "# Inference"
   ]
  },
  {
   "cell_type": "code",
   "execution_count": 19,
   "metadata": {
    "collapsed": true
   },
   "outputs": [],
   "source": [
    "qmu = Normal(mu=tf.Variable(tf.random_normal([K, D])),\n",
    "            sigma=tf.nn.softplus(tf.Variable(tf.zeros([K, D]))))\n",
    "qsigma = InverseGamma(\n",
    "    alpha=tf.nn.softplus(tf.Variable(tf.random_normal([K, D]))),\n",
    "    beta=tf.nn.softplus(tf.Variable(tf.random_normal([K, D])))\n",
    ")\n",
    "inference = ed.KLqp({mu: qmu, sigma:qsigma}, data={x: x_train})\n",
    "inference.initialize(n_samples=20, n_iter=4000)"
   ]
  },
  {
   "cell_type": "code",
   "execution_count": 21,
   "metadata": {
    "collapsed": false
   },
   "outputs": [],
   "source": [
    "sess = ed.get_session()\n",
    "init = tf.global_variables_initializer()\n",
    "init.run()"
   ]
  },
  {
   "cell_type": "code",
   "execution_count": 23,
   "metadata": {
    "collapsed": false
   },
   "outputs": [
    {
     "name": "stdout",
     "output_type": "stream",
     "text": [
      "Iteration    1 [  0%]: Loss = 4035.080\n",
      "Iteration  400 [ 10%]: Loss = 1930.983\n",
      "Inferred cluster means:\n",
      "[[ 0.46853906 -0.44096434]\n",
      " [ 0.44212031 -0.17498754]]\n",
      "Iteration  800 [ 20%]: Loss = 1240.042\n",
      "Inferred cluster means:\n",
      "[[-1.04005373 -0.64162743]\n",
      " [ 0.17904404  0.59977615]]\n",
      "Iteration 1200 [ 30%]: Loss = 951.057\n",
      "Inferred cluster means:\n",
      "[[-0.78359747 -0.96310759]\n",
      " [ 0.76356339  0.98571116]]\n",
      "Iteration 1600 [ 40%]: Loss = 1035.207\n",
      "Inferred cluster means:\n",
      "[[-1.26877379 -1.1552794 ]\n",
      " [ 1.31790948  0.96185952]]\n",
      "Iteration 2000 [ 50%]: Loss = 970.676\n",
      "Inferred cluster means:\n",
      "[[-0.83575034 -0.81228036]\n",
      " [ 0.81297839  0.8316229 ]]\n",
      "Iteration 2400 [ 60%]: Loss = 892.210\n",
      "Inferred cluster means:\n",
      "[[-1.1592958  -0.89578563]\n",
      " [ 0.79022789  1.03443909]]\n",
      "Iteration 2800 [ 70%]: Loss = 901.602\n",
      "Inferred cluster means:\n",
      "[[-1.10362434 -1.17149103]\n",
      " [ 0.8637886   1.12806857]]\n",
      "Iteration 3200 [ 80%]: Loss = 855.882\n",
      "Inferred cluster means:\n",
      "[[-1.01542878 -0.98210287]\n",
      " [ 0.8931005   1.18952906]]\n",
      "Iteration 3600 [ 90%]: Loss = 800.363\n",
      "Inferred cluster means:\n",
      "[[-1.00775194 -1.02209842]\n",
      " [ 1.01351643  1.19948709]]\n",
      "Iteration 4000 [100%]: Loss = 840.123\n",
      "Inferred cluster means:\n",
      "[[-0.96746564 -0.9087103 ]\n",
      " [ 1.08539653  1.15687966]]\n"
     ]
    }
   ],
   "source": [
    "for _ in range(inference.n_iter):\n",
    "    info_dict = inference.update()\n",
    "    inference.print_progress(info_dict)\n",
    "    t = info_dict[\"t\"]\n",
    "    if t % inference.n_print == 0:\n",
    "        print(\"Inferred cluster means:\")\n",
    "        print(sess.run(qmu.value()))"
   ]
  },
  {
   "cell_type": "markdown",
   "metadata": {},
   "source": [
    "# Calculate likelihood for each data "
   ]
  },
  {
   "cell_type": "code",
   "execution_count": 27,
   "metadata": {
    "collapsed": false
   },
   "outputs": [],
   "source": [
    "mu_sample = qmu.sample(100)\n",
    "sigma_sample = qsigma.sample(100)\n",
    "x_post = Normal(mu=tf.ones([N, 1, 1, 1]) * mu_sample,\n",
    "               sigma=tf.ones([N, 1, 1, 1]) * sigma_sample)\n",
    "x_broadcasted = tf.tile(tf.reshape(x_train, [N, 1, 1, D]), [1, 100, K, 1])"
   ]
  },
  {
   "cell_type": "markdown",
   "metadata": {},
   "source": [
    "# Sum over latent dimension "
   ]
  },
  {
   "cell_type": "code",
   "execution_count": 28,
   "metadata": {
    "collapsed": false
   },
   "outputs": [],
   "source": [
    "log_liks = x_post.log_prob(x_broadcasted)\n",
    "log_liks = tf.reduce_sum(log_liks, 3)\n",
    "log_liks = tf.reduce_mean(log_liks, 1)"
   ]
  },
  {
   "cell_type": "markdown",
   "metadata": {},
   "source": [
    "# Choose the Cluster"
   ]
  },
  {
   "cell_type": "code",
   "execution_count": 29,
   "metadata": {
    "collapsed": false
   },
   "outputs": [
    {
     "data": {
      "image/png": "[encoded data removed]",
      "text/plain": [
       "<matplotlib.figure.Figure at 0x7fede1cfc710>"
      ]
     },
     "metadata": {},
     "output_type": "display_data"
    }
   ],
   "source": [
    "cluster = tf.argmax(log_liks, 1).eval()\n",
    "plt.scatter(x_train[:, 0], x_train[:, 1], c=cluster, cmap=cm.bwr)\n",
    "plt.axis([-3, 3, -3, 3])\n",
    "plt.title(\"Predicted cluster assignments\")\n",
    "plt.show()"
   ]
  },
  {
   "cell_type": "code",
   "execution_count": null,
   "metadata": {
    "collapsed": true
   },
   "outputs": [],
   "source": []
  }
 ],
 "metadata": {
  "kernelspec": {
   "display_name": "Python 3",
   "language": "python",
   "name": "python3"
  },
  "language_info": {
   "codemirror_mode": {
    "name": "ipython",
    "version": 3
   },
   "file_extension": ".py",
   "mimetype": "text/x-python",
   "name": "python",
   "nbconvert_exporter": "python",
   "pygments_lexer": "ipython3",
   "version": "3.5.2"
  }
 },
 "nbformat": 4,
 "nbformat_minor": 2
}
