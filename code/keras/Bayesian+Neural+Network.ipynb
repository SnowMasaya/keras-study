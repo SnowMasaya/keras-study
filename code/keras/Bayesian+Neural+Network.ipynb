{
 "cells": [
  {
   "cell_type": "code",
   "execution_count": 10,
   "metadata": {
    "collapsed": false
   },
   "outputs": [],
   "source": [
    "from edward.models import Normal\n",
    "import tensorflow as tf\n",
    "import numpy as np\n",
    "\n",
    "def neural_network(x):\n",
    "    h = tf.tanh(tf.matmul(x, W_0) + b_0)\n",
    "    h = tf.tanh(tf.matmul(h, W_1) + b_1)\n",
    "    h = tf.matmul(h, W_2) + b_2\n",
    "    return tf.reshape(h, [-1])"
   ]
  },
  {
   "cell_type": "code",
   "execution_count": 11,
   "metadata": {
    "collapsed": true
   },
   "outputs": [],
   "source": [
    "def build_toy_dataset(N, noise_std=0.5):\n",
    "    X = np.concatenate([np.linspace(0, 2, num=N / 2),\n",
    "                       np.linspace(6, 8, num=N / 2)])\n",
    "    y = 2.0 * X + 10 * np.random.normal(0, noise_std, size=N)\n",
    "    X = X.astype(np.float32).reshape((N, 1))\n",
    "    y = y.astype(np.float32)\n",
    "    return X, y"
   ]
  },
  {
   "cell_type": "code",
   "execution_count": 12,
   "metadata": {
    "collapsed": false
   },
   "outputs": [],
   "source": [
    "N = 40\n",
    "D = 1\n",
    "\n",
    "X_train, y_train = build_toy_dataset(N)\n",
    "X_test, y_test = build_toy_dataset(N)\n",
    "\n",
    "W_0 = Normal(mu=tf.zeros([D, 10]), sigma=tf.ones([D, 10]))\n",
    "W_1 = Normal(mu=tf.zeros([10, 10]), sigma=tf.ones([10, 10]))\n",
    "W_2 = Normal(mu=tf.zeros([10, 1]), sigma=tf.ones([10, 1]))\n",
    "b_0 = Normal(mu=tf.zeros([10]), sigma=tf.ones(10))\n",
    "b_1 = Normal(mu=tf.zeros([10]), sigma=tf.ones(10))\n",
    "b_2 = Normal(mu=tf.zeros([1]), sigma=tf.ones(1))\n",
    "\n",
    "x = X_train\n",
    "y = Normal(mu=neural_network(x), sigma=0.1 * tf.ones(N))"
   ]
  },
  {
   "cell_type": "markdown",
   "metadata": {},
   "source": [
    "# Inference"
   ]
  },
  {
   "cell_type": "code",
   "execution_count": 17,
   "metadata": {
    "collapsed": false
   },
   "outputs": [],
   "source": [
    "qW_0 = Normal(mu=tf.Variable(tf.random_normal([D, 10])),\n",
    "             sigma=tf.nn.softplus(tf.Variable(tf.random_normal([D, 10]))))\n",
    "qW_1 = Normal(mu=tf.Variable(tf.random_normal([10, 10])),\n",
    "             sigma=tf.nn.softplus(tf.Variable(tf.random_normal([10, 10]))))\n",
    "qW_2 = Normal(mu=tf.Variable(tf.random_normal([10, 1])),\n",
    "             sigma=tf.nn.softplus(tf.Variable(tf.random_normal([10, 1]))))\n",
    "qb_0 = Normal(mu=tf.Variable(tf.random_normal([10])),\n",
    "             sigma=tf.nn.softplus(tf.Variable(tf.random_normal([10]))))\n",
    "qb_1 = Normal(mu=tf.Variable(tf.random_normal([10])),\n",
    "             sigma=tf.nn.softplus(tf.Variable(tf.random_normal([10]))))\n",
    "qb_2 = Normal(mu=tf.Variable(tf.random_normal([1])),\n",
    "             sigma=tf.nn.softplus(tf.Variable(tf.random_normal([1]))))"
   ]
  },
  {
   "cell_type": "code",
   "execution_count": 35,
   "metadata": {
    "collapsed": false
   },
   "outputs": [
    {
     "name": "stdout",
     "output_type": "stream",
     "text": [
      "Iteration    1 [  0%]: Loss = 350572.781\n",
      "Iteration  500 [ 10%]: Loss = 36384.062\n",
      "Iteration 1000 [ 20%]: Loss = 34581.926\n",
      "Iteration 1500 [ 30%]: Loss = 35923.652\n",
      "Iteration 2000 [ 40%]: Loss = 33983.094\n",
      "Iteration 2500 [ 50%]: Loss = 32668.848\n",
      "Iteration 3000 [ 60%]: Loss = 32797.055\n",
      "Iteration 3500 [ 70%]: Loss = 32770.121\n",
      "Iteration 4000 [ 80%]: Loss = 32834.484\n",
      "Iteration 4500 [ 90%]: Loss = 32692.566\n",
      "Iteration 5000 [100%]: Loss = 32966.164\n"
     ]
    }
   ],
   "source": [
    "import edward as ed\n",
    "\n",
    "inference = ed.KLqp({W_0: qW_0, b_0:qb_0,\n",
    "                    W_1: qW_1, b_1:qb_1,\n",
    "                    W_2: qW_2, b_2:qb_2}, data={y: y_train})\n",
    "inference.run(n_iter=5000)"
   ]
  },
  {
   "cell_type": "code",
   "execution_count": null,
   "metadata": {
    "collapsed": true
   },
   "outputs": [],
   "source": []
  }
 ],
 "metadata": {
  "kernelspec": {
   "display_name": "Python 3",
   "language": "python",
   "name": "python3"
  },
  "language_info": {
   "codemirror_mode": {
    "name": "ipython",
    "version": 3
   },
   "file_extension": ".py",
   "mimetype": "text/x-python",
   "name": "python",
   "nbconvert_exporter": "python",
   "pygments_lexer": "ipython3",
   "version": "3.5.2"
  }
 },
 "nbformat": 4,
 "nbformat_minor": 2
}
